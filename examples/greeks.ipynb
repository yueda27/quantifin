{
 "metadata": {
  "language_info": {
   "codemirror_mode": {
    "name": "ipython",
    "version": 3
   },
   "file_extension": ".py",
   "mimetype": "text/x-python",
   "name": "python",
   "nbconvert_exporter": "python",
   "pygments_lexer": "ipython3",
   "version": "3.7.5-final"
  },
  "orig_nbformat": 2,
  "kernelspec": {
   "name": "python3",
   "display_name": "Python 3.7.5 64-bit ('quantifin': pipenv)",
   "metadata": {
    "interpreter": {
     "hash": "0666c056db64789cf6fac10e3d8086107f4fc6841e1786e06f39f689d3dc85fc"
    }
   }
  }
 },
 "nbformat": 4,
 "nbformat_minor": 2,
 "cells": [
  {
   "cell_type": "code",
   "execution_count": 21,
   "metadata": {},
   "outputs": [],
   "source": [
    "from quantifin.equity import Stock\n",
    "from quantifin.util import RiskFree\n",
    "from quantifin.util.markets import Market\n",
    "from datetime import datetime"
   ]
  },
  {
   "cell_type": "code",
   "execution_count": 22,
   "metadata": {},
   "outputs": [
    {
     "output_type": "stream",
     "name": "stdout",
     "text": [
      "using period 2020-03-16 to 2021-03-16\n"
     ]
    }
   ],
   "source": [
    "stock = Stock(\"LULU\")\n",
    "ten_year_rf = RiskFree(10)\n",
    "sp500 = Market(\"S&P\") \n",
    "end = datetime.now()\n",
    "end_string = end.strftime(\"%Y-%m-%d\")\n",
    "start = datetime(end.year - 1, end.month, end.day)\n",
    "start_string = start.strftime(\"%Y-%m-%d\")\n",
    "print(f\"using period {start_string} to {end_string}\")"
   ]
  },
  {
   "cell_type": "code",
   "execution_count": 23,
   "metadata": {},
   "outputs": [
    {
     "output_type": "execute_result",
     "data": {
      "text/plain": [
       "[0.016,\n",
       " 0.015,\n",
       " 0.011,\n",
       " 0.009,\n",
       " 0.008,\n",
       " 0.009,\n",
       " 0.007,\n",
       " 0.007,\n",
       " 0.005,\n",
       " 0.007,\n",
       " 0.006,\n",
       " 0.006]"
      ]
     },
     "metadata": {},
     "execution_count": 23
    }
   ],
   "source": [
    "rf_history = ten_year_rf.yield_history(start_string, end_string, \"monthly\")\n",
    "rf_history.reverse()  # reverse order of yield to go from latest to oldest\n",
    "rf_history"
   ]
  },
  {
   "cell_type": "code",
   "execution_count": 24,
   "metadata": {},
   "outputs": [
    {
     "output_type": "stream",
     "name": "stdout",
     "text": [
      "Sortino ratio 0.518  Sharpe: 1.02999 coeffcient of variation 3.6074\none year alpha: -0.078\n"
     ]
    }
   ],
   "source": [
    "#We can supply any form of risk free history to be used as the based rate\n",
    "sortino = stock.get_sortino_ratio(start_string, end_string, \"monthly\", rf_history)\n",
    "sharpe = stock.get_sharpe_ratio_ex_post(start_string, end_string, \"monthly\", rf_history)\n",
    "cv = stock.get_coefficient_of_variation(1, \"monthly\")\n",
    "sp_one_year_return = sp500.get_annualised_return(1)\n",
    "alpha = stock.get_alpha(1, sp_one_year_return, rf_history[0]) #Using the latest rf rate to calculate alpha. You can provide your own\n",
    "print(f\"Sortino ratio {sortino}  Sharpe: {sharpe} coeffcient of variation {cv}\")\n",
    "print(f\"one year alpha: {alpha}\")"
   ]
  },
  {
   "cell_type": "code",
   "execution_count": 25,
   "metadata": {},
   "outputs": [
    {
     "output_type": "stream",
     "name": "stdout",
     "text": [
      "Sortino ratio 0.518  Sharpe: 1.02999 coeffcient of variation 3.6074\n"
     ]
    }
   ],
   "source": [
    "#Alternatively, we can also use the default risk free rate by not specifying the risk free history. The default risk free benchmark used is the US 10 year bond yield with ticker: ^TNX\n",
    "sortino = stock.get_sortino_ratio(start_string, end_string, \"monthly\")\n",
    "sharpe = stock.get_sharpe_ratio_ex_post(start_string, end_string, \"monthly\")\n",
    "cv = stock.get_coefficient_of_variation(1, \"monthly\")\n",
    "print(f\"Sortino ratio {sortino}  Sharpe: {sharpe} coeffcient of variation {cv}\")"
   ]
  }
 ]
}