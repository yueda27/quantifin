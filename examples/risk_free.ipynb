{
 "metadata": {
  "language_info": {
   "codemirror_mode": {
    "name": "ipython",
    "version": 3
   },
   "file_extension": ".py",
   "mimetype": "text/x-python",
   "name": "python",
   "nbconvert_exporter": "python",
   "pygments_lexer": "ipython3",
   "version": "3.7.5-final"
  },
  "orig_nbformat": 2,
  "kernelspec": {
   "name": "python3",
   "display_name": "Python 3.7.5 64-bit ('quantifin': pipenv)",
   "metadata": {
    "interpreter": {
     "hash": "0666c056db64789cf6fac10e3d8086107f4fc6841e1786e06f39f689d3dc85fc"
    }
   }
  }
 },
 "nbformat": 4,
 "nbformat_minor": 2,
 "cells": [
  {
   "cell_type": "code",
   "execution_count": 3,
   "metadata": {},
   "outputs": [
    {
     "output_type": "stream",
     "name": "stdout",
     "text": [
      "Spot yield for 5 is 0.792%\n"
     ]
    }
   ],
   "source": [
    "from quantifin.util import RiskFree\n",
    "ten_year = RiskFree(5)\n",
    "print(f\"Spot yield for {ten_year.year} is {ten_year.spot_yield * 100}%\")\n"
   ]
  },
  {
   "cell_type": "code",
   "execution_count": null,
   "metadata": {},
   "outputs": [],
   "source": []
  }
 ]
}