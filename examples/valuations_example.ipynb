{
 "metadata": {
  "language_info": {
   "codemirror_mode": {
    "name": "ipython",
    "version": 3
   },
   "file_extension": ".py",
   "mimetype": "text/x-python",
   "name": "python",
   "nbconvert_exporter": "python",
   "pygments_lexer": "ipython3",
   "version": "3.7.5-final"
  },
  "orig_nbformat": 2,
  "kernelspec": {
   "name": "python3",
   "display_name": "Python 3.7.5 64-bit ('quantifin': pipenv)",
   "metadata": {
    "interpreter": {
     "hash": "0666c056db64789cf6fac10e3d8086107f4fc6841e1786e06f39f689d3dc85fc"
    }
   }
  }
 },
 "nbformat": 4,
 "nbformat_minor": 2,
 "cells": [
  {
   "cell_type": "code",
   "execution_count": 1,
   "metadata": {},
   "outputs": [],
   "source": [
    "import yahoofinancials as yf    \n",
    "from quantifin.util.markets import Market\n",
    "from quantifin.equity.valuation import *\n",
    "from quantifin.equity import Stock\n",
    "import json"
   ]
  },
  {
   "cell_type": "code",
   "execution_count": 2,
   "metadata": {},
   "outputs": [],
   "source": [
    "jpm = Stock(\"JPM\")\n",
    "nyse = Market(jpm.get_stock_exchange())\n",
    "price_list = nyse.get_historical_price_data(\"2010-01-01\", \"2021-01-01\", 'monthly')"
   ]
  },
  {
   "cell_type": "code",
   "execution_count": 3,
   "metadata": {},
   "outputs": [
    {
     "output_type": "execute_result",
     "data": {
      "text/plain": [
       "0.0744"
      ]
     },
     "metadata": {},
     "execution_count": 3
    }
   ],
   "source": [
    "market_returns = nyse.get_annualised_return(3)\n",
    "market_returns\n"
   ]
  },
  {
   "cell_type": "code",
   "execution_count": 4,
   "metadata": {},
   "outputs": [
    {
     "output_type": "stream",
     "name": "stdout",
     "text": [
      "Current dividend: 3.6 growth rate: 0.074 req return 0.07174743959999999\n"
     ]
    },
    {
     "output_type": "execute_result",
     "data": {
      "text/plain": [
       "107.438"
      ]
     },
     "metadata": {},
     "execution_count": 4
    }
   ],
   "source": [
    "#Gordon Growth Model\n",
    "current_dividend = jpm.full_year_dividend()\n",
    "growth_rate = jpm.growth_rate()\n",
    "req_rate = CAPM(0.05, market_returns , jpm.beta)\n",
    "print(f\"Current dividend: {current_dividend} growth rate: {growth_rate} req return {req_rate}\")\n",
    "gordon_growth_valuation(current_dividend, req_rate, growth_rate * 0.5)"
   ]
  },
  {
   "cell_type": "code",
   "execution_count": 5,
   "metadata": {},
   "outputs": [
    {
     "output_type": "stream",
     "name": "stdout",
     "text": [
      "payout 0.364 growth 0.037 req_rate 0.07174743959999999 EPS 8.88\n"
     ]
    },
    {
     "output_type": "execute_result",
     "data": {
      "text/plain": [
       "96.465"
      ]
     },
     "metadata": {},
     "execution_count": 5
    }
   ],
   "source": [
    "#Forward PE\n",
    "payout_hist = jpm.get_dividend_payout_ratio_history()\n",
    "payout = jpm.average_dividend_payout_ratio(payout_hist)\n",
    "growth_rate = jpm.growth_rate() * 0.5\n",
    "eps = jpm.get_key_statistics_data()[jpm.stock_code]['trailingEps']\n",
    "print(f\"payout {payout} growth {growth_rate} req_rate {req_rate} EPS {eps}\")\n",
    "forward_pe(payout, growth_rate, req_rate, eps)"
   ]
  },
  {
   "cell_type": "code",
   "execution_count": 9,
   "metadata": {},
   "outputs": [
    {
     "output_type": "stream",
     "name": "stdout",
     "text": [
      "MARKET INFO: Index: NYSE Index returns: 0.0788 Beta: 0.86078\n",
      "Using Dividend: 1.01, Req Return: 0.144012128 Growth projection [(3, 0.178), (3, 0.1424), (None, 0.0712)]\n",
      "We arrive at a projected value of: 22.667\n"
     ]
    }
   ],
   "source": [
    "#Multi-stage valuation\n",
    "s = Stock(\"NKE\")\n",
    "#Market returns & Req rate of returns\n",
    "market = Market(s.get_stock_exchange())\n",
    "\n",
    "market_returns = market.get_annualised_return(5)\n",
    "print(f\"MARKET INFO: Index: {s.get_stock_exchange()} Index returns: {market_returns} Beta: {s.beta}\")\n",
    "req_rate = CAPM(0.03, market_returns, s.beta) * 2\n",
    "\n",
    "current_dividend = s.full_year_dividend()\n",
    "growth = s.growth_rate()\n",
    "proj_growth = [(3, growth), (3, growth * 0.8), (None, growth * 0.4)]  #Projecting growth rate\n",
    "print(f\"Using Dividend: {current_dividend}, Req Return: {req_rate} Growth projection {proj_growth}\")\n",
    "\n",
    "value = multistage_growth(current_dividend, req_rate, proj_growth)\n",
    "print(f\"We arrive at a projected value of: {value}\")"
   ]
  },
  {
   "cell_type": "code",
   "execution_count": 27,
   "metadata": {},
   "outputs": [
    {
     "output_type": "stream",
     "name": "stdout",
     "text": [
      "\n        ======MARKET INFO========\n        Index: ^IXIC  10-year-return: 0.1635\n\n        ===================VALUATION INFO==============\n        Required Rate of Return(CAPM): 0.1812179865  Current EPS: 41.83 \n        Projected growth rate: [(5, 0.189), (3, 0.2268), (3, 0.189), (None, 0.1323)]\nValue: 1643.678\n"
     ]
    }
   ],
   "source": [
    "#Multi-stage valuation using eps (stocks with no dividends)\n",
    "#s = Stock(\"AMZN\")\n",
    "market = Market(s.get_stock_exchange())\n",
    "market_return = market.get_annualised_return(10)\n",
    "print(f'''\n",
    "        ======MARKET INFO========\n",
    "        Index: {market.market_code}  10-year-return: {market_return}''')\n",
    "\n",
    "req_rate = CAPM(0.03, market_return, s.beta) \n",
    "current_eps = s.trailing_eps\n",
    "growth = s.growth_rate()\n",
    "proj_growth = [(5, growth), (3, growth * 1.2), (3, growth), (None, growth * 0.7)]\n",
    "print(f'''\n",
    "        ===================VALUATION INFO==============\n",
    "        Required Rate of Return(CAPM): {req_rate}  Current EPS: {current_eps} \n",
    "        Projected growth rate: {proj_growth}''')\n",
    "value = multistage_growth(current_eps, req_rate, proj_growth)\n",
    "print(f\"Value: {value}\")"
   ]
  },
  {
   "cell_type": "code",
   "execution_count": 24,
   "metadata": {},
   "outputs": [
    {
     "output_type": "stream",
     "name": "stdout",
     "text": [
      "\n        ======MARKET INFO========\n        Index: ^NYA  10-year-return: 0.0599\n\n========Stock info===========\nRequired Rate of Return(CAPM): 0.11871668260000001  FCF: {'2020': 6417000000, '2019': 5827000000, '2018': 1860000000, '2017': 5299000000} \nfcf_growth: 0.05280000000000001   No. of Shares: 280102996.36192936\n\nValuation: $365.902\n"
     ]
    }
   ],
   "source": [
    "##Valuation using FCF\n",
    "s = Stock(\"LMT\")\n",
    "market = Market(s.get_stock_exchange())\n",
    "market_return = market.get_annualised_return(10)\n",
    "print(f'''\n",
    "        ======MARKET INFO========\n",
    "        Index: {market.market_code}  10-year-return: {market_return}''')\n",
    "\n",
    "req_rate = CAPM(0.05, market_return, s.beta) *2 \n",
    "no_shares = s.get_num_shares_outstanding()\n",
    "fcf = s.get_fcf_history()\n",
    "fcf_growth=s.fcf_growth_rate()*0.1\n",
    "print(f'''\n",
    "========Stock info===========\n",
    "Required Rate of Return(CAPM): {req_rate}  FCF: {fcf} \n",
    "fcf_growth: {fcf_growth}   No. of Shares: {no_shares}\n",
    "''')\n",
    "value = gordon_growth_valuation(fcf['2020'], req_rate, fcf_growth)\n",
    "print(f\"Valuation: ${round(value/no_shares, 3)}\")"
   ]
  },
  {
   "cell_type": "code",
   "execution_count": null,
   "metadata": {},
   "outputs": [],
   "source": []
  }
 ]
}