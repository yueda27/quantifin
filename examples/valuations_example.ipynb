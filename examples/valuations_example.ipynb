{
 "metadata": {
  "language_info": {
   "codemirror_mode": {
    "name": "ipython",
    "version": 3
   },
   "file_extension": ".py",
   "mimetype": "text/x-python",
   "name": "python",
   "nbconvert_exporter": "python",
   "pygments_lexer": "ipython3",
   "version": "3.7.5-final"
  },
  "orig_nbformat": 2,
  "kernelspec": {
   "name": "python3",
   "display_name": "Python 3.7.5 64-bit ('quantifin': venv)",
   "metadata": {
    "interpreter": {
     "hash": "0666c056db64789cf6fac10e3d8086107f4fc6841e1786e06f39f689d3dc85fc"
    }
   }
  }
 },
 "nbformat": 4,
 "nbformat_minor": 2,
 "cells": [
  {
   "cell_type": "code",
   "execution_count": 2,
   "metadata": {},
   "outputs": [],
   "source": [
    "import yahoofinancials as yf    \n",
    "from quantifin.util.markets import Market\n",
    "from quantifin.equity.valuation import *\n",
    "from quantifin.equity import Stock\n",
    "import json"
   ]
  },
  {
   "cell_type": "code",
   "execution_count": 3,
   "metadata": {},
   "outputs": [],
   "source": [
    "jpm = Stock(\"JPM\")\n",
    "nyse = Market(jpm.get_stock_exchange())\n",
    "price_list = nyse.get_historical_price_data(\"2010-01-01\", \"2021-01-01\", 'monthly')"
   ]
  },
  {
   "cell_type": "code",
   "execution_count": 4,
   "metadata": {},
   "outputs": [
    {
     "output_type": "execute_result",
     "data": {
      "text/plain": [
       "0.0613"
      ]
     },
     "metadata": {},
     "execution_count": 4
    }
   ],
   "source": [
    "market_returns = nyse.get_annualised_return(3)\n",
    "market_returns\n"
   ]
  },
  {
   "cell_type": "code",
   "execution_count": 4,
   "metadata": {},
   "outputs": [
    {
     "output_type": "stream",
     "name": "stdout",
     "text": [
      "Current dividend: 3.6 growth rate: 0.074 req return 0.06357713079999999\n"
     ]
    },
    {
     "output_type": "execute_result",
     "data": {
      "text/plain": [
       "140.467"
      ]
     },
     "metadata": {},
     "execution_count": 4
    }
   ],
   "source": [
    "#Gordon Growth Model\n",
    "current_dividend = jpm.full_year_dividend()\n",
    "growth_rate = jpm.growth_rate()\n",
    "req_rate = CAPM(0.05, market_returns , jpm.beta)\n",
    "print(f\"Current dividend: {current_dividend} growth rate: {growth_rate} req return {req_rate}\")\n",
    "gordon_growth_valuation(current_dividend, req_rate, growth_rate * 0.5)"
   ]
  },
  {
   "cell_type": "code",
   "execution_count": 6,
   "metadata": {},
   "outputs": [
    {
     "output_type": "stream",
     "name": "stdout",
     "text": [
      "payout 0.364 growth 0.037 req_rate 0.06357713079999999 EPS 8.88\n"
     ]
    },
    {
     "output_type": "execute_result",
     "data": {
      "text/plain": [
       "126.12"
      ]
     },
     "metadata": {},
     "execution_count": 6
    }
   ],
   "source": [
    "#Forward PE\n",
    "payout_hist = jpm.get_dividend_payout_ratio_history()\n",
    "payout = jpm.average_dividend_payout_ratio(payout_hist)\n",
    "growth_rate = jpm.growth_rate() * 0.5\n",
    "eps = jpm.YfApi.get_key_statistics_data()[jpm.stock_code]['trailingEps']\n",
    "print(f\"payout {payout} growth {growth_rate} req_rate {req_rate} EPS {eps}\")\n",
    "forward_pe(payout, growth_rate, req_rate, eps)"
   ]
  },
  {
   "cell_type": "code",
   "execution_count": null,
   "metadata": {},
   "outputs": [],
   "source": []
  }
 ]
}