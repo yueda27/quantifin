{
 "metadata": {
  "language_info": {
   "codemirror_mode": {
    "name": "ipython",
    "version": 3
   },
   "file_extension": ".py",
   "mimetype": "text/x-python",
   "name": "python",
   "nbconvert_exporter": "python",
   "pygments_lexer": "ipython3",
   "version": "3.7.5-final"
  },
  "orig_nbformat": 2,
  "kernelspec": {
   "name": "python3",
   "display_name": "Python 3.7.5 64-bit ('quantifin': venv)",
   "metadata": {
    "interpreter": {
     "hash": "0666c056db64789cf6fac10e3d8086107f4fc6841e1786e06f39f689d3dc85fc"
    }
   }
  }
 },
 "nbformat": 4,
 "nbformat_minor": 2,
 "cells": [
  {
   "cell_type": "code",
   "execution_count": 8,
   "metadata": {},
   "outputs": [],
   "source": [
    "import yahoofinancials as yf    \n",
    "from quantifin.util.markets import Market\n",
    "from quantifin.util import RiskFree\n",
    "from quantifin.equity.valuation import *\n",
    "from quantifin.equity import Stock\n",
    "import json"
   ]
  },
  {
   "cell_type": "code",
   "execution_count": 11,
   "metadata": {},
   "outputs": [
    {
     "output_type": "stream",
     "name": "stdout",
     "text": [
      "Using 10 risk free rate from index: ^TNX with a yield of 1.52%\n"
     ]
    }
   ],
   "source": [
    "risk_free = RiskFree(10)\n",
    "risk_free_yield = risk_free.spot_yield\n",
    "print(f\"Using {risk_free.year} risk free rate from index: {risk_free.market_code} with a yield of {risk_free_yield * 100}%\")"
   ]
  },
  {
   "cell_type": "code",
   "execution_count": 14,
   "metadata": {},
   "outputs": [
    {
     "output_type": "stream",
     "name": "stdout",
     "text": [
      "Current dividend: 3.6 growth rate: 0.074 req return 0.06890776520000001\n"
     ]
    },
    {
     "output_type": "execute_result",
     "data": {
      "text/plain": [
       "117.0"
      ]
     },
     "metadata": {},
     "execution_count": 14
    }
   ],
   "source": [
    "#Gordon Growth Model\n",
    "jpm = Stock(\"JPM\")\n",
    "market = Market(jpm.get_stock_exchange())\n",
    "market_returns = market.get_annualised_return(risk_free.year)\n",
    "current_dividend = jpm.full_year_dividend()\n",
    "growth_rate = jpm.growth_rate()\n",
    "req_rate = CAPM(risk_free_yield, market_returns , jpm.beta)\n",
    "print(f\"Current dividend: {current_dividend} growth rate: {growth_rate} req return {req_rate}\")\n",
    "gordon_growth_valuation(current_dividend, req_rate, growth_rate * 0.5)"
   ]
  },
  {
   "cell_type": "code",
   "execution_count": 16,
   "metadata": {},
   "outputs": [
    {
     "output_type": "stream",
     "name": "stdout",
     "text": [
      "payout 0.364 growth 0.037 req_rate 0.10735373200000001 EPS 8.88\n"
     ]
    },
    {
     "output_type": "execute_result",
     "data": {
      "text/plain": [
       "47.644"
      ]
     },
     "metadata": {},
     "execution_count": 16
    }
   ],
   "source": [
    "#Forward PE\n",
    "payout_hist = jpm.get_dividend_payout_ratio_history()\n",
    "payout = jpm.average_dividend_payout_ratio(payout_hist)\n",
    "growth_rate = jpm.growth_rate() * 0.5\n",
    "eps = jpm.get_key_statistics_data()[jpm.stock_code]['trailingEps']\n",
    "print(f\"payout {payout} growth {growth_rate} req_rate {req_rate} EPS {eps}\")\n",
    "forward_pe(payout, growth_rate, req_rate, eps)"
   ]
  },
  {
   "cell_type": "code",
   "execution_count": 19,
   "metadata": {},
   "outputs": [
    {
     "output_type": "stream",
     "name": "stdout",
     "text": [
      "MARKET INFO: Index: NYSE Index returns: 0.0599 Beta: 0.86078\n",
      "Using Dividend: 1.01, Req Return: 0.10735373200000001 Growth projection [(3, 0.178), (3, 0.1424), (None, 0.0712)]\n",
      "We arrive at a projected value of: 46.873\n"
     ]
    }
   ],
   "source": [
    "#Multi-stage valuation\n",
    "s = Stock(\"NKE\")\n",
    "#Market returns & Req rate of returns\n",
    "market = Market(s.get_stock_exchange())\n",
    "\n",
    "market_returns = market.get_annualised_return(risk_free.year)\n",
    "print(f\"MARKET INFO: Index: {s.get_stock_exchange()} Index returns: {market_returns} Beta: {s.beta}\")\n",
    "req_rate = CAPM(risk_free_yield, market_returns, s.beta) * 2\n",
    "\n",
    "current_dividend = s.full_year_dividend()\n",
    "growth = s.growth_rate()\n",
    "proj_growth = [(3, growth), (3, growth * 0.8), (None, growth * 0.4)]  #Projecting growth rate\n",
    "print(f\"Using Dividend: {current_dividend}, Req Return: {req_rate} Growth projection {proj_growth}\")\n",
    "\n",
    "value = multistage_growth(current_dividend, req_rate, proj_growth)\n",
    "print(f\"We arrive at a projected value of: {value}\")"
   ]
  },
  {
   "cell_type": "code",
   "execution_count": 21,
   "metadata": {},
   "outputs": [
    {
     "output_type": "stream",
     "name": "stdout",
     "text": [
      "\n",
      "        ======MARKET INFO========\n",
      "        Index: ^IXIC  10-year-return: 0.1635\n",
      "\n",
      "        ===================VALUATION INFO==============\n",
      "        Required Rate of Return(CAPM): 0.1812179865  Current EPS: 41.83 \n",
      "        Projected growth rate: [(5, 0.189), (3, 0.2268), (3, 0.189), (None, 0.1323)]\n",
      "Value: 1643.678\n"
     ]
    }
   ],
   "source": [
    "#Multi-stage valuation using eps (stocks with no dividends)\n",
    "s = Stock(\"AMZN\")\n",
    "market = Market(s.get_stock_exchange())\n",
    "market_return = market.get_annualised_return(10)\n",
    "print(f'''\n",
    "        ======MARKET INFO========\n",
    "        Index: {market.market_code}  10-year-return: {market_return}''')\n",
    "\n",
    "req_rate = CAPM(risk_free_yield, market_return, s.beta) \n",
    "current_eps = s.trailing_eps\n",
    "growth = s.growth_rate()\n",
    "proj_growth = [(5, growth), (3, growth * 1.2), (3, growth), (None, growth * 0.7)]\n",
    "print(f'''\n",
    "        ===================VALUATION INFO==============\n",
    "        Required Rate of Return(CAPM): {req_rate}  Current EPS: {current_eps} \n",
    "        Projected growth rate: {proj_growth}''')\n",
    "value = multistage_growth(current_eps, req_rate, proj_growth)\n",
    "print(f\"Value: {value}\")"
   ]
  },
  {
   "cell_type": "code",
   "execution_count": 22,
   "metadata": {},
   "outputs": [
    {
     "output_type": "stream",
     "name": "stdout",
     "text": [
      "\n",
      "        ======MARKET INFO========\n",
      "        Index: ^NYA  10-year-return: 0.0599\n",
      "\n",
      "========Stock info===========\n",
      "Required Rate of Return(CAPM): 0.11490865780000001  FCF: {'2020': 6417000000, '2019': 5827000000, '2018': 1860000000, '2017': 5299000000} \n",
      "fcf_growth: 0.05280000000000001   No. of Shares: 280102996.36192936\n",
      "\n",
      "Valuation: $388.336\n"
     ]
    }
   ],
   "source": [
    "##Valuation using FCF\n",
    "s = Stock(\"LMT\")\n",
    "market = Market(s.get_stock_exchange())\n",
    "market_return = market.get_annualised_return(risk_free.year)\n",
    "print(f'''\n",
    "        ======MARKET INFO========\n",
    "        Index: {market.market_code}  10-year-return: {market_return}''')\n",
    "\n",
    "req_rate = CAPM(risk_free_yield, market_return, s.beta) *2 \n",
    "no_shares = s.get_num_shares_outstanding()\n",
    "fcf = s.get_fcf_history()\n",
    "fcf_growth=s.fcf_growth_rate()*0.1\n",
    "print(f'''\n",
    "========Stock info===========\n",
    "Required Rate of Return(CAPM): {req_rate}  FCF: {fcf} \n",
    "fcf_growth: {fcf_growth}   No. of Shares: {no_shares}\n",
    "''')\n",
    "value = gordon_growth_valuation(fcf['2020'], req_rate, fcf_growth)\n",
    "print(f\"Valuation: ${round(value/no_shares, 3)}\")"
   ]
  },
  {
   "cell_type": "code",
   "execution_count": null,
   "metadata": {},
   "outputs": [],
   "source": []
  }
 ]
}